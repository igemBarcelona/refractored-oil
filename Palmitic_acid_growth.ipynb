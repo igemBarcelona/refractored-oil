{
 "cells": [
  {
   "cell_type": "code",
   "execution_count": 2,
   "metadata": {
    "collapsed": true
   },
   "outputs": [],
   "source": [
    "#import packages\n",
    "\n",
    "from __future__ import print_function\n",
    "\n",
    "import cobra\n",
    "from cobra import Model, Reaction, Metabolite\n",
    "import os\n",
    "from os.path import join\n",
    "#Open Model. Model source: http://bigg.ucsd.edu/static/models/iJO1366.xml\n",
    "\n",
    "data_dir = '/Users/asd/Documents/iGEM/metabolic_model_tests'\n",
    "\n",
    "model=cobra.io.load_json_model(join(data_dir, \"iJO1366.json\"))"
   ]
  },
  {
   "cell_type": "code",
   "execution_count": 8,
   "metadata": {
    "collapsed": true
   },
   "outputs": [],
   "source": [
    "#find reacions\n",
    "hdca_c=model.metabolites.get_by_id('hdca_c')\n",
    "hdca_c_reactions=list(hdca_c.reactions)\n",
    "\n",
    "hdca_p=model.metabolites.get_by_id('hdca_p')\n",
    "hdca_p_reactions=list(hdca_p.reactions)\n",
    "\n"
   ]
  },
  {
   "cell_type": "code",
   "execution_count": 3,
   "metadata": {},
   "outputs": [
    {
     "name": "stdout",
     "output_type": "stream",
     "text": [
      "{1: 2.659572485026595, 2: 2.540102640522383, 3: 2.5039233194233406, 4: 2.486447363021407, 5: 2.476150233386924, 6: 2.469362242711584, 7: 2.464550737037012, 8: 2.460962171645084, 9: 2.4581828669476296, 10: 2.4559668158936967, 11: 2.454158548816703, 12: 2.4526549923596708, 13: 2.451385111504923, 14: 2.450298359029357, 15: 2.449357785953894, 16: 2.4485357569437807, 17: 2.447811189691983, 18: 2.4471677212577343, 19: 2.446592457493749}\n"
     ]
    },
    {
     "name": "stderr",
     "output_type": "stream",
     "text": [
      "cobra/util/solver.py:404 \u001b[1;31mUserWarning\u001b[0m: solver status is 'infeasible'\n"
     ]
    }
   ],
   "source": [
    "#Glucose growth\n",
    "\n",
    "models_ratio_values={}\n",
    "for x in range(1,20):\n",
    "    glucose_model= model\n",
    "    EX_hdca_e= glucose_model.reactions.get_by_id('EX_hdca_e')\n",
    "    EX_hdca_e.lower_bound=-0\n",
    "    EX_hdca_e.upper_bound=1000.0\n",
    "\n",
    "    EX_glc__D_e= glucose_model.reactions.get_by_id('EX_glc__D_e')\n",
    "    EX_glc__D_e.lower_bound=-x\n",
    "    EX_glc__D_e.upper_bound=0\n",
    "\n",
    "    WT_glucose= glucose_model.optimize()\n",
    "\n",
    "    #Palmitic growth\n",
    "\n",
    "\n",
    "    palmitic_model= model\n",
    "    EX_hdca_e= palmitic_model.reactions.get_by_id('EX_hdca_e')\n",
    "    EX_hdca_e.lower_bound=-x\n",
    "    EX_hdca_e.upper_bound=0\n",
    "\n",
    "    EX_glc__D_e= palmitic_model.reactions.get_by_id('EX_glc__D_e')\n",
    "    EX_glc__D_e.lower_bound=-0\n",
    "    EX_glc__D_e.upper_bound=0\n",
    "\n",
    "    WT_palmitic=palmitic_model.optimize()\n",
    "    o=(WT_palmitic.objective_value/WT_glucose.objective_value)\n",
    "    models_ratio_values.update({x:o})\n",
    "\n",
    "with glucose_model:\n",
    "    glucose_model.genes.b2344.knock_out()\n",
    "    FadD_KO_glucose=glucose_model.optimize()\n",
    "    \n",
    "print( models_ratio_values)"
   ]
  },
  {
   "cell_type": "code",
   "execution_count": null,
   "metadata": {
    "collapsed": true
   },
   "outputs": [],
   "source": []
  },
  {
   "cell_type": "code",
   "execution_count": 4,
   "metadata": {
    "collapsed": true
   },
   "outputs": [],
   "source": [
    "\n",
    "with palmitic_model:\n",
    "    palmitic_model.genes.b2344.knock_out()\n",
    "    FadD_KO_palmitic=palmitic_model.optimize()\n"
   ]
  },
  {
   "cell_type": "code",
   "execution_count": 5,
   "metadata": {},
   "outputs": [
    {
     "name": "stdout",
     "output_type": "stream",
     "text": [
      "WT_glucose: 1.87826504283 \n",
      " FadD_KO_glucose: 0.0 \n",
      " WT_palmitic: 4.59534908695 \n",
      "FadD_KO_palmitic : 0.0\n"
     ]
    }
   ],
   "source": [
    "\n",
    "    \n",
    "print('WT_glucose:',WT_glucose.objective_value,\n",
    "    '\\n FadD_KO_glucose:',FadD_KO_glucose.objective_value,\n",
    "    '\\n WT_palmitic:',WT_palmitic.objective_value,\n",
    "    '\\nFadD_KO_palmitic :',FadD_KO_palmitic.objective_value,)\n",
    "\n"
   ]
  },
  {
   "cell_type": "code",
   "execution_count": 6,
   "metadata": {},
   "outputs": [
    {
     "data": {
      "image/png": "[encoded data removed]",
      "text/plain": [
       "<matplotlib.figure.Figure at 0x11431e7d0>"
      ]
     },
     "metadata": {},
     "output_type": "display_data"
    }
   ],
   "source": [
    "import matplotlib\n",
    "import matplotlib.pyplot as plt\n",
    "import numpy as np\n",
    "lists = models_ratio_values.items() # sorted by key, return a list of tuples\n",
    "x, y = zip(*lists)\n",
    "plt.plot(x,y)\n",
    "\n",
    "\n",
    "#lists_2 = sorted(glucose_model_values.items()) # sorted by key, return a list of tuples\n",
    "#z,q = zip(*lists_2)\n",
    "#plt.plot(z,q)\n",
    "\n",
    "\n",
    "plt.show()"
   ]
  },
  {
   "cell_type": "code",
   "execution_count": 7,
   "metadata": {},
   "outputs": [
    {
     "name": "stdout",
     "output_type": "stream",
     "text": [
      ">>>>>>>>>>>>>>><<<<<<<<<<<<<<<<<<<<\n"
     ]
    }
   ],
   "source": [
    "hdca_c=model.metabolites.get_by_id('hdca_c')\n",
    "hdca_c_reactions=list(hdca_c.reactions)\n",
    "\n",
    "hdca_p=model.metabolites.get_by_id('hdca_p')\n",
    "hdca_p_reactions=list(hdca_p.reactions)\n",
    "\n",
    "\n",
    "#for x in hdca_c_reactions:\n",
    "    #print(x.reaction,x.gene_reaction_rule)\n",
    "    \n",
    "print('>>>>>>>>>>>>>>><<<<<<<<<<<<<<<<<<<<')\n",
    "    \n",
    "#for y in hdca_p_reactions:\n",
    "    #print(y.reaction,y.gene_reaction_rule)\n",
    "    \n",
    "    \n",
    "    "
   ]
  },
  {
   "cell_type": "code",
   "execution_count": null,
   "metadata": {
    "collapsed": true
   },
   "outputs": [],
   "source": []
  }
 ],
 "metadata": {
  "kernelspec": {
   "display_name": "Python 2",
   "language": "python",
   "name": "python2"
  },
  "language_info": {
   "codemirror_mode": {
    "name": "ipython",
    "version": 2
   },
   "file_extension": ".py",
   "mimetype": "text/x-python",
   "name": "python",
   "nbconvert_exporter": "python",
   "pygments_lexer": "ipython2",
   "version": "2.7.13"
  }
 },
 "nbformat": 4,
 "nbformat_minor": 2
}
