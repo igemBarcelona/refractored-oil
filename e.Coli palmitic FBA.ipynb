{
 "cells": [
  {
   "cell_type": "code",
   "execution_count": 1,
   "metadata": {
    "collapsed": true
   },
   "outputs": [],
   "source": [
    "#import packages\n",
    "\n",
    "from __future__ import print_function\n",
    "\n",
    "\n",
    "import cobra\n",
    "from cobra import Model, Reaction, Metabolite\n",
    "import os\n",
    "from os.path import join\n",
    "#Open Model. Model source: http://bigg.ucsd.edu/static/models/iJO1366.xml\n",
    "\n",
    "data_dir = '/Users/asd/Documents/iGEM/metabolic_model_tests'\n",
    "\n",
    "model=cobra.io.load_json_model(join(data_dir, \"iJO1366.json\"))\n",
    "\n",
    "\n"
   ]
  },
  {
   "cell_type": "code",
   "execution_count": 8,
   "metadata": {
    "collapsed": true
   },
   "outputs": [],
   "source": [
    "EX_hdca_e= model.reactions.get_by_id('EX_hdca_e')\n",
    "EX_hdca_e.lower_bound=-0.0\n",
    "EX_hdca_e.upper_bound=1000.0\n"
   ]
  },
  {
   "cell_type": "code",
   "execution_count": 11,
   "metadata": {
    "collapsed": true
   },
   "outputs": [],
   "source": [
    "\n",
    "EX_glc__D_e= model.reactions.get_by_id('EX_glc__D_e')\n",
    "EX_glc__D_e.lower_bound=-10\n",
    "EX_glc__D_e.upper_bound=0\n"
   ]
  },
  {
   "cell_type": "code",
   "execution_count": null,
   "metadata": {},
   "outputs": [],
   "source": []
  },
  {
   "cell_type": "code",
   "execution_count": 12,
   "metadata": {},
   "outputs": [
    {
     "name": "stdout",
     "output_type": "stream",
     "text": [
      "IN FLUXES             OUT FLUXES           OBJECTIVES\n",
      "--------------------  -------------------  ---------------------\n",
      "o2_e       28.3       h2o_e     57.5       BIOMASS_Ec_i...  1.27\n",
      "nh4_e      13.7       co2_e     24\n",
      "glc__D_e   10         h_e       10.6\n",
      "pi_e        1.22      mththf_c   0.000567\n",
      "hdca_e      1         5drib_c    0.000285\n",
      "so4_e       0.319     4crsol_c   0.000282\n",
      "k_e         0.247     amob_c     3e-06\n",
      "fe2_e       0.0203    meoh_e     3e-06\n",
      "mg2_e       0.011\n",
      "ca2_e       0.00659\n",
      "cl_e        0.00659\n",
      "cu2_e       0.000898\n",
      "mn2_e       0.000875\n",
      "zn2_e       0.000432\n",
      "ni2_e       0.000409\n",
      "mobd_e      0.000163\n",
      "cobalt2_e   3.2e-05\n"
     ]
    }
   ],
   "source": [
    "#Optimize for biomass function\n",
    "model.optimize()\n",
    "model.summary()\n"
   ]
  },
  {
   "cell_type": "code",
   "execution_count": null,
   "metadata": {
    "collapsed": true
   },
   "outputs": [],
   "source": [
    "#Add a reaction only containing hdca_c and optimize for that reaction:\n",
    "\n",
    "\n",
    "hdca_c= model.metabolites.get_by_id('hdca_c')\n",
    "\n",
    "reaction = Reaction('hdca_c_opt')\n",
    "reaction.name = 'hdca_c_opt '\n",
    "reaction.subsystem = 'hdca_c_opt'\n",
    "reaction.lower_bound = -1\n",
    "reaction.upper_bound = 1\n",
    "\n",
    "\n",
    "model.add_reactions([reaction])\n",
    "\n",
    "reaction.add_metabolites({\n",
    "    #hdca_c:-1.0,\n",
    "    hdca_c:1.0\n",
    "   \n",
    "})\n"
   ]
  },
  {
   "cell_type": "code",
   "execution_count": null,
   "metadata": {},
   "outputs": [],
   "source": [
    "model.objective = 'hdca_c_opt'\n",
    "model.optimize()\n",
    "model.summary()"
   ]
  },
  {
   "cell_type": "code",
   "execution_count": null,
   "metadata": {},
   "outputs": [],
   "source": [
    "#delete FadD regulatory gene\n",
    "\n",
    "hdca_c=model.metabolites.get_by_id('hdca_c')\n",
    "hdca_c_reactions=list(hdca_c.reactions)\n",
    "\n",
    "for l in hdca_c_reactions:\n",
    "    print(l.reaction,l.gene_reaction_rule)"
   ]
  },
  {
   "cell_type": "code",
   "execution_count": null,
   "metadata": {},
   "outputs": [],
   "source": [
    "FadD=model.genes.get_by_id(\"b1805\")\n",
    "#FadD_reactions=list(FadD.reactions)\n",
    "\n",
    "#for reaction in FadD_reactions:\n",
    "        #print(reaction.reaction)\n",
    "       \n",
    "        \n",
    "        \n",
    "model.genes.b1805.knock_out()\n",
    "#print('fadD knocked out: ', model.optimize())\n",
    "model.summary()\n"
   ]
  },
  {
   "cell_type": "code",
   "execution_count": null,
   "metadata": {},
   "outputs": [],
   "source": [
    "FadR=model.genes.get_by_id(\"b1187\")"
   ]
  },
  {
   "cell_type": "code",
   "execution_count": null,
   "metadata": {
    "collapsed": true
   },
   "outputs": [],
   "source": []
  }
 ],
 "metadata": {
  "kernelspec": {
   "display_name": "Python 2",
   "language": "python",
   "name": "python2"
  },
  "language_info": {
   "codemirror_mode": {
    "name": "ipython",
    "version": 2
   },
   "file_extension": ".py",
   "mimetype": "text/x-python",
   "name": "python",
   "nbconvert_exporter": "python",
   "pygments_lexer": "ipython2",
   "version": "2.7.13"
  }
 },
 "nbformat": 4,
 "nbformat_minor": 2
}
