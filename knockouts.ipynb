{
 "cells": [
  {
   "cell_type": "code",
   "execution_count": 1,
   "metadata": {
    "collapsed": true
   },
   "outputs": [],
   "source": [
    "#import packages\n",
    "\n",
    "from __future__ import print_function\n",
    "\n",
    "\n",
    "import cobra\n",
    "from cobra import Model, Reaction, Metabolite\n",
    "import os\n",
    "from os.path import join\n",
    "#Open Model. Model source: http://bigg.ucsd.edu/static/models/iJO1366.xml\n",
    "\n",
    "data_dir = '/Users/asd/Documents/iGEM/metabolic_model_tests'\n",
    "\n",
    "model=cobra.io.load_json_model(join(data_dir, \"iJO1366.json\"))\n",
    "\n",
    "\n",
    "from cobra.flux_analysis import (\n",
    "    single_gene_deletion, single_reaction_deletion, double_gene_deletion,\n",
    "    double_reaction_deletion)"
   ]
  },
  {
   "cell_type": "code",
   "execution_count": 4,
   "metadata": {},
   "outputs": [
    {
     "name": "stdout",
     "output_type": "stream",
     "text": [
      "fadD knocked out:  <Solution 0.982 at 0x11ed7c690>\n",
      "HDCAtexi Hexadecanoate transport via facilitated irreversible diffusion (extracellular to periplasm) hdca_e --> hdca_p b2344\n",
      "EX_hdca_e Hexadecanoate (n-C16:0) exchange hdca_e -->  \n",
      "LIPAHT2ex Core oligosaccharide lipid A:hexadecanoate transferase (n-C16:0) (extracellular membrane) colipa_e + h_e + hdca_e --> h2o_e + hacolipa_e b0622\n",
      "LIPAHTex Lipid A:hexadecanoate transferase (n-C16:0) (extracellular membrane) h_e + hdca_e + lipa_e --> h2o_e + halipa_e b0622\n"
     ]
    }
   ],
   "source": [
    "with model:\n",
    "    #print('none knocked out: ', model.optimize())\n",
    "    model.genes.b1805.knock_out()\n",
    "    model.genes.b1701.knock_out()\n",
    "    print('fadD knocked out: ', model.optimize())\n",
    "\n",
    "\n",
    "hdca_e=model.metabolites.get_by_id('hdca_e')\n",
    "reactions=hdca_e.reactions\n",
    "for x in reactions:\n",
    "    print(x.id,x.name,x.reaction,x.gene_reaction_rule)"
   ]
  },
  {
   "cell_type": "code",
   "execution_count": null,
   "metadata": {},
   "outputs": [],
   "source": [
    "FadD=model.genes.get_by_id(\"b1805\")\n",
    "FadD_reactions=list(FadD.reactions)\n",
    "\n",
    "for reaction in FadD_reactions:\n",
    "        print(reaction.id, reaction.gene_reaction_rule,'::::::',reaction.reaction)\n",
    "        "
   ]
  },
  {
   "cell_type": "code",
   "execution_count": null,
   "metadata": {},
   "outputs": [],
   "source": []
  },
  {
   "cell_type": "code",
   "execution_count": null,
   "metadata": {},
   "outputs": [],
   "source": [
    "x=len(model.genes)\n",
    "results=single_gene_deletion(model,model.genes[:x])\n",
    "for result in results:\n",
    "    if status is not optimal:\n",
    "        print (result)"
   ]
  },
  {
   "cell_type": "code",
   "execution_count": null,
   "metadata": {
    "collapsed": true
   },
   "outputs": [],
   "source": []
  }
 ],
 "metadata": {
  "kernelspec": {
   "display_name": "Python 2",
   "language": "python",
   "name": "python2"
  },
  "language_info": {
   "codemirror_mode": {
    "name": "ipython",
    "version": 2
   },
   "file_extension": ".py",
   "mimetype": "text/x-python",
   "name": "python",
   "nbconvert_exporter": "python",
   "pygments_lexer": "ipython2",
   "version": "2.7.13"
  }
 },
 "nbformat": 4,
 "nbformat_minor": 2
}
